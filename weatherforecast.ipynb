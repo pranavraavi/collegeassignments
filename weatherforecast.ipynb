{
  "cells": [
    {
      "cell_type": "markdown",
      "metadata": {
        "id": "view-in-github",
        "colab_type": "text"
      },
      "source": [
        "<a href=\"https://colab.research.google.com/github/pranavraavi/collegeassignments/blob/main/weatherforecast.ipynb\" target=\"_parent\"><img src=\"https://colab.research.google.com/assets/colab-badge.svg\" alt=\"Open In Colab\"/></a>"
      ]
    },
    {
      "cell_type": "code",
      "source": [
        "#Dynamic_Variables\n",
        "print(\"+------------------------+\")\n",
        "print(\"|Weather Forecast Software|\")\n",
        "print(\"+------------------------+\")\n",
        "t = eval(input(\"| Enter the temperature(°C): \"))\n",
        "h = eval(input(\"| Enter the humidity(%): \"))\n",
        "ws = eval(input(\"| Enter the wind speed(km\\h): \"))\n",
        "print(\"+--------------------------------+\")\n",
        "w = (0.5 *(t**2)) - (0.2 * h) + (0.1 * ws) - 15\n",
        "if w > 300:\n",
        "  print(\"|Result: The weather is SUNNY.|\")\n",
        "elif w > 200 and w <= 300:\n",
        "  print(\"|Result: The weather is CLOUDY.|\")\n",
        "elif w > 100 and w <= 200:\n",
        "  print(\"|Result: The weather is RAINY.|\")\n",
        "elif w <= 100:\n",
        "  print(\"|Result: The weather is STORMY.|\")\n",
        "  print(\"+------------------------------+\")"
      ],
      "metadata": {
        "id": "EkL0VRYA59vh",
        "colab": {
          "base_uri": "https://localhost:8080/"
        },
        "outputId": "de8bb087-7b34-422f-ec3d-26f30f935fe5"
      },
      "execution_count": null,
      "outputs": [
        {
          "output_type": "stream",
          "name": "stdout",
          "text": [
            "+------------------------+\n",
            "|Weather Forecast Software|\n",
            "+------------------------+\n",
            "| Enter the temperature(°C): 15\n",
            "| Enter the humidity(%): 70\n",
            "| Enter the wind speed(km\\h): 7\n",
            "+--------------------------------+\n",
            "|Result: The weather is STORMY.|\n",
            "+------------------------------+\n"
          ]
        }
      ]
    },
    {
      "cell_type": "code",
      "source": [
        "#Static_Variables\n",
        "print(\"+------------------------+\")\n",
        "print(\"|Weather Forecast Software|\")\n",
        "print(\"+------------------------+\")\n",
        "t = 16\n",
        "h = 70\n",
        "ws = 7\n",
        "print(\"+--------------------------------+\")\n",
        "w = (0.5 *(t**2)) - (0.2 * h) + (0.1 * ws) - 15\n",
        "if w > 300:\n",
        "  print(\"|Result: The weather is SUNNY.|\")\n",
        "elif w > 200 and w <= 300:\n",
        "  print(\"|Result: The weather is CLOUDY.|\")\n",
        "elif w > 100 and w <= 200:\n",
        "  print(\"|Result: The weather is RAINY.|\")\n",
        "elif w <= 100:\n",
        "  print(\"|Result: The weather is STORMY.|\")\n",
        "  print(\"+------------------------------+\")"
      ],
      "metadata": {
        "colab": {
          "base_uri": "https://localhost:8080/"
        },
        "id": "ErQ3JX1FR_64",
        "outputId": "37942cb4-bff5-47ba-d0c6-ef8ab55a23ab"
      },
      "execution_count": null,
      "outputs": [
        {
          "output_type": "stream",
          "name": "stdout",
          "text": [
            "+------------------------+\n",
            "|Weather Forecast Software|\n",
            "+------------------------+\n",
            "+--------------------------------+\n",
            "|Result: The weather is STORMY.|\n",
            "+------------------------------+\n"
          ]
        }
      ]
    },
    {
      "cell_type": "code",
      "source": [
        "#Using_For_Loop"
      ],
      "metadata": {
        "id": "ZPDL2XW_59yB"
      },
      "execution_count": null,
      "outputs": []
    },
    {
      "cell_type": "code",
      "source": [
        "#User_gives_multiple_inputs\n",
        "print(\"+------------------------+\")\n",
        "print(\"|Weather Forecast Software|\")\n",
        "print(\"+------------------------+\")\n",
        "t = eval(input(\"| Enter the temperature(°C): \"))\n",
        "h = eval(input(\"| Enter the humidity(%): \"))\n",
        "ws = eval(input(\"| Enter the wind speed(km\\h): \"))\n",
        "print(\"+--------------------------------+\")\n",
        "w = (0.5 *(t**2)) - (0.2 * h) + (0.1 * ws) - 15\n",
        "if w > 300:\n",
        "  print(\"|Result: The weather is SUNNY.|\")\n",
        "elif w > 200 and w <= 300:\n",
        "  print(\"|Result: The weather is CLOUDY.|\")\n",
        "elif w > 100 and w <= 200:\n",
        "  print(\"|Result: The weather is RAINY.|\")\n",
        "elif w <= 100:\n",
        "  print(\"|Result: The weather is STORMY.|\")\n",
        "  print(\"+------------------------------+\")"
      ],
      "metadata": {
        "id": "AJWOnc9nUN3d"
      },
      "execution_count": null,
      "outputs": []
    },
    {
      "cell_type": "code",
      "source": [
        "#Reading_From_A_File"
      ],
      "metadata": {
        "id": "atJmhyVF590p"
      },
      "execution_count": null,
      "outputs": []
    }
  ],
  "metadata": {
    "colab": {
      "toc_visible": true,
      "provenance": [],
      "include_colab_link": true
    },
    "kernelspec": {
      "display_name": "Python 3",
      "name": "python3"
    }
  },
  "nbformat": 4,
  "nbformat_minor": 0
}